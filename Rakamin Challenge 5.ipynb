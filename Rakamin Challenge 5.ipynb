{
 "cells": [
  {
   "cell_type": "markdown",
   "metadata": {},
   "source": [
    "### Import dataset"
   ]
  },
  {
   "cell_type": "code",
   "execution_count": 1,
   "metadata": {},
   "outputs": [],
   "source": [
    "import pandas as pd"
   ]
  },
  {
   "cell_type": "code",
   "execution_count": 4,
   "metadata": {},
   "outputs": [],
   "source": [
    "df_customer = pd.read_csv('dataset\\Customer.csv', sep=';')\n",
    "df_product = pd.read_csv('dataset\\Product.csv', sep=';')\n",
    "df_store = pd.read_csv('dataset\\Store.csv', sep=';')\n",
    "df_transaction = pd.read_csv('dataset\\Transaction.csv', sep=';')"
   ]
  },
  {
   "cell_type": "markdown",
   "metadata": {},
   "source": [
    "### Cleaning Customer table"
   ]
  },
  {
   "cell_type": "code",
   "execution_count": 3,
   "metadata": {},
   "outputs": [
    {
     "data": {
      "text/html": [
       "<div>\n",
       "<style scoped>\n",
       "    .dataframe tbody tr th:only-of-type {\n",
       "        vertical-align: middle;\n",
       "    }\n",
       "\n",
       "    .dataframe tbody tr th {\n",
       "        vertical-align: top;\n",
       "    }\n",
       "\n",
       "    .dataframe thead th {\n",
       "        text-align: right;\n",
       "    }\n",
       "</style>\n",
       "<table border=\"1\" class=\"dataframe\">\n",
       "  <thead>\n",
       "    <tr style=\"text-align: right;\">\n",
       "      <th></th>\n",
       "      <th>CustomerID</th>\n",
       "      <th>Age</th>\n",
       "      <th>Gender</th>\n",
       "      <th>Marital Status</th>\n",
       "      <th>Income</th>\n",
       "    </tr>\n",
       "  </thead>\n",
       "  <tbody>\n",
       "    <tr>\n",
       "      <th>0</th>\n",
       "      <td>1</td>\n",
       "      <td>55</td>\n",
       "      <td>1</td>\n",
       "      <td>Married</td>\n",
       "      <td>5,12</td>\n",
       "    </tr>\n",
       "    <tr>\n",
       "      <th>1</th>\n",
       "      <td>2</td>\n",
       "      <td>60</td>\n",
       "      <td>1</td>\n",
       "      <td>Married</td>\n",
       "      <td>6,23</td>\n",
       "    </tr>\n",
       "    <tr>\n",
       "      <th>2</th>\n",
       "      <td>3</td>\n",
       "      <td>32</td>\n",
       "      <td>1</td>\n",
       "      <td>Married</td>\n",
       "      <td>9,17</td>\n",
       "    </tr>\n",
       "    <tr>\n",
       "      <th>3</th>\n",
       "      <td>4</td>\n",
       "      <td>31</td>\n",
       "      <td>1</td>\n",
       "      <td>Married</td>\n",
       "      <td>4,87</td>\n",
       "    </tr>\n",
       "    <tr>\n",
       "      <th>4</th>\n",
       "      <td>5</td>\n",
       "      <td>58</td>\n",
       "      <td>1</td>\n",
       "      <td>Married</td>\n",
       "      <td>3,57</td>\n",
       "    </tr>\n",
       "  </tbody>\n",
       "</table>\n",
       "</div>"
      ],
      "text/plain": [
       "   CustomerID  Age  Gender Marital Status Income\n",
       "0           1   55       1        Married   5,12\n",
       "1           2   60       1        Married   6,23\n",
       "2           3   32       1        Married   9,17\n",
       "3           4   31       1        Married   4,87\n",
       "4           5   58       1        Married   3,57"
      ]
     },
     "execution_count": 3,
     "metadata": {},
     "output_type": "execute_result"
    }
   ],
   "source": [
    "df_customer.head()"
   ]
  },
  {
   "cell_type": "code",
   "execution_count": 4,
   "metadata": {},
   "outputs": [],
   "source": [
    "df_customer['Income'] = df_customer['Income'].str.replace(',', '.').astype(float)"
   ]
  },
  {
   "cell_type": "code",
   "execution_count": 5,
   "metadata": {},
   "outputs": [
    {
     "data": {
      "text/plain": [
       "Married    340\n",
       "Single     104\n",
       "Name: Marital Status, dtype: int64"
      ]
     },
     "execution_count": 5,
     "metadata": {},
     "output_type": "execute_result"
    }
   ],
   "source": [
    "df_customer['Marital Status'].value_counts()"
   ]
  },
  {
   "cell_type": "code",
   "execution_count": 6,
   "metadata": {},
   "outputs": [
    {
     "data": {
      "text/html": [
       "<div>\n",
       "<style scoped>\n",
       "    .dataframe tbody tr th:only-of-type {\n",
       "        vertical-align: middle;\n",
       "    }\n",
       "\n",
       "    .dataframe tbody tr th {\n",
       "        vertical-align: top;\n",
       "    }\n",
       "\n",
       "    .dataframe thead th {\n",
       "        text-align: right;\n",
       "    }\n",
       "</style>\n",
       "<table border=\"1\" class=\"dataframe\">\n",
       "  <thead>\n",
       "    <tr style=\"text-align: right;\">\n",
       "      <th></th>\n",
       "      <th>count</th>\n",
       "      <th>mean</th>\n",
       "      <th>std</th>\n",
       "      <th>min</th>\n",
       "      <th>25%</th>\n",
       "      <th>50%</th>\n",
       "      <th>75%</th>\n",
       "      <th>max</th>\n",
       "    </tr>\n",
       "    <tr>\n",
       "      <th>Marital Status</th>\n",
       "      <th></th>\n",
       "      <th></th>\n",
       "      <th></th>\n",
       "      <th></th>\n",
       "      <th></th>\n",
       "      <th></th>\n",
       "      <th></th>\n",
       "      <th></th>\n",
       "    </tr>\n",
       "  </thead>\n",
       "  <tbody>\n",
       "    <tr>\n",
       "      <th>Married</th>\n",
       "      <td>340.0</td>\n",
       "      <td>9.743147</td>\n",
       "      <td>6.579840</td>\n",
       "      <td>2.07</td>\n",
       "      <td>5.0775</td>\n",
       "      <td>8.965</td>\n",
       "      <td>12.5525</td>\n",
       "      <td>71.30</td>\n",
       "    </tr>\n",
       "    <tr>\n",
       "      <th>Single</th>\n",
       "      <td>104.0</td>\n",
       "      <td>4.916250</td>\n",
       "      <td>5.295811</td>\n",
       "      <td>0.00</td>\n",
       "      <td>1.5150</td>\n",
       "      <td>3.665</td>\n",
       "      <td>6.4675</td>\n",
       "      <td>33.77</td>\n",
       "    </tr>\n",
       "  </tbody>\n",
       "</table>\n",
       "</div>"
      ],
      "text/plain": [
       "                count      mean       std   min     25%    50%      75%    max\n",
       "Marital Status                                                                \n",
       "Married         340.0  9.743147  6.579840  2.07  5.0775  8.965  12.5525  71.30\n",
       "Single          104.0  4.916250  5.295811  0.00  1.5150  3.665   6.4675  33.77"
      ]
     },
     "execution_count": 6,
     "metadata": {},
     "output_type": "execute_result"
    }
   ],
   "source": [
    "# average income of each marital status\n",
    "df_customer.groupby('Marital Status')['Income'].describe()"
   ]
  },
  {
   "cell_type": "code",
   "execution_count": 7,
   "metadata": {},
   "outputs": [
    {
     "data": {
      "text/html": [
       "<div>\n",
       "<style scoped>\n",
       "    .dataframe tbody tr th:only-of-type {\n",
       "        vertical-align: middle;\n",
       "    }\n",
       "\n",
       "    .dataframe tbody tr th {\n",
       "        vertical-align: top;\n",
       "    }\n",
       "\n",
       "    .dataframe thead th {\n",
       "        text-align: right;\n",
       "    }\n",
       "</style>\n",
       "<table border=\"1\" class=\"dataframe\">\n",
       "  <thead>\n",
       "    <tr style=\"text-align: right;\">\n",
       "      <th></th>\n",
       "      <th>count</th>\n",
       "      <th>mean</th>\n",
       "      <th>std</th>\n",
       "      <th>min</th>\n",
       "      <th>25%</th>\n",
       "      <th>50%</th>\n",
       "      <th>75%</th>\n",
       "      <th>max</th>\n",
       "    </tr>\n",
       "    <tr>\n",
       "      <th>Marital Status</th>\n",
       "      <th></th>\n",
       "      <th></th>\n",
       "      <th></th>\n",
       "      <th></th>\n",
       "      <th></th>\n",
       "      <th></th>\n",
       "      <th></th>\n",
       "      <th></th>\n",
       "    </tr>\n",
       "  </thead>\n",
       "  <tbody>\n",
       "    <tr>\n",
       "      <th>Married</th>\n",
       "      <td>340.0</td>\n",
       "      <td>43.038235</td>\n",
       "      <td>11.558305</td>\n",
       "      <td>0.0</td>\n",
       "      <td>34.0</td>\n",
       "      <td>43.0</td>\n",
       "      <td>53.00</td>\n",
       "      <td>72.0</td>\n",
       "    </tr>\n",
       "    <tr>\n",
       "      <th>Single</th>\n",
       "      <td>104.0</td>\n",
       "      <td>29.384615</td>\n",
       "      <td>11.342255</td>\n",
       "      <td>18.0</td>\n",
       "      <td>21.0</td>\n",
       "      <td>25.0</td>\n",
       "      <td>35.25</td>\n",
       "      <td>69.0</td>\n",
       "    </tr>\n",
       "  </tbody>\n",
       "</table>\n",
       "</div>"
      ],
      "text/plain": [
       "                count       mean        std   min   25%   50%    75%   max\n",
       "Marital Status                                                            \n",
       "Married         340.0  43.038235  11.558305   0.0  34.0  43.0  53.00  72.0\n",
       "Single          104.0  29.384615  11.342255  18.0  21.0  25.0  35.25  69.0"
      ]
     },
     "execution_count": 7,
     "metadata": {},
     "output_type": "execute_result"
    }
   ],
   "source": [
    "df_customer.groupby('Marital Status')['Age'].describe()"
   ]
  },
  {
   "cell_type": "code",
   "execution_count": 8,
   "metadata": {},
   "outputs": [
    {
     "data": {
      "text/plain": [
       "3"
      ]
     },
     "execution_count": 8,
     "metadata": {},
     "output_type": "execute_result"
    }
   ],
   "source": [
    "# show the row that has marital status is null\n",
    "len(df_customer[df_customer['Marital Status'].isnull()])"
   ]
  },
  {
   "cell_type": "code",
   "execution_count": 9,
   "metadata": {},
   "outputs": [
    {
     "data": {
      "text/html": [
       "<div>\n",
       "<style scoped>\n",
       "    .dataframe tbody tr th:only-of-type {\n",
       "        vertical-align: middle;\n",
       "    }\n",
       "\n",
       "    .dataframe tbody tr th {\n",
       "        vertical-align: top;\n",
       "    }\n",
       "\n",
       "    .dataframe thead th {\n",
       "        text-align: right;\n",
       "    }\n",
       "</style>\n",
       "<table border=\"1\" class=\"dataframe\">\n",
       "  <thead>\n",
       "    <tr style=\"text-align: right;\">\n",
       "      <th></th>\n",
       "      <th>CustomerID</th>\n",
       "      <th>Age</th>\n",
       "      <th>Gender</th>\n",
       "      <th>Marital Status</th>\n",
       "      <th>Income</th>\n",
       "    </tr>\n",
       "  </thead>\n",
       "  <tbody>\n",
       "    <tr>\n",
       "      <th>9</th>\n",
       "      <td>10</td>\n",
       "      <td>34</td>\n",
       "      <td>1</td>\n",
       "      <td>NaN</td>\n",
       "      <td>4.00</td>\n",
       "    </tr>\n",
       "    <tr>\n",
       "      <th>415</th>\n",
       "      <td>416</td>\n",
       "      <td>27</td>\n",
       "      <td>1</td>\n",
       "      <td>NaN</td>\n",
       "      <td>3.43</td>\n",
       "    </tr>\n",
       "    <tr>\n",
       "      <th>442</th>\n",
       "      <td>443</td>\n",
       "      <td>33</td>\n",
       "      <td>1</td>\n",
       "      <td>NaN</td>\n",
       "      <td>9.28</td>\n",
       "    </tr>\n",
       "  </tbody>\n",
       "</table>\n",
       "</div>"
      ],
      "text/plain": [
       "     CustomerID  Age  Gender Marital Status  Income\n",
       "9            10   34       1            NaN    4.00\n",
       "415         416   27       1            NaN    3.43\n",
       "442         443   33       1            NaN    9.28"
      ]
     },
     "execution_count": 9,
     "metadata": {},
     "output_type": "execute_result"
    }
   ],
   "source": [
    "df_customer[df_customer['Marital Status'].isnull()]"
   ]
  },
  {
   "cell_type": "code",
   "execution_count": 10,
   "metadata": {},
   "outputs": [],
   "source": [
    "# fill the marital status with 'Single' because the income relative young (75% of the single age is 35)\n",
    "df_customer['Marital Status'] = df_customer['Marital Status'].fillna('Single')"
   ]
  },
  {
   "cell_type": "code",
   "execution_count": 11,
   "metadata": {},
   "outputs": [
    {
     "data": {
      "text/plain": [
       "0"
      ]
     },
     "execution_count": 11,
     "metadata": {},
     "output_type": "execute_result"
    }
   ],
   "source": [
    "len(df_customer[df_customer['Marital Status'].isnull()])"
   ]
  },
  {
   "cell_type": "markdown",
   "metadata": {},
   "source": [
    "### Merge table transaction and cleaning"
   ]
  },
  {
   "cell_type": "code",
   "execution_count": 12,
   "metadata": {},
   "outputs": [
    {
     "data": {
      "text/html": [
       "<div>\n",
       "<style scoped>\n",
       "    .dataframe tbody tr th:only-of-type {\n",
       "        vertical-align: middle;\n",
       "    }\n",
       "\n",
       "    .dataframe tbody tr th {\n",
       "        vertical-align: top;\n",
       "    }\n",
       "\n",
       "    .dataframe thead th {\n",
       "        text-align: right;\n",
       "    }\n",
       "</style>\n",
       "<table border=\"1\" class=\"dataframe\">\n",
       "  <thead>\n",
       "    <tr style=\"text-align: right;\">\n",
       "      <th></th>\n",
       "      <th>TransactionID</th>\n",
       "      <th>CustomerID</th>\n",
       "      <th>Date</th>\n",
       "      <th>ProductID</th>\n",
       "      <th>Price</th>\n",
       "      <th>Qty</th>\n",
       "      <th>TotalAmount</th>\n",
       "      <th>StoreID</th>\n",
       "      <th>Age</th>\n",
       "      <th>Gender</th>\n",
       "      <th>Marital Status</th>\n",
       "      <th>Income</th>\n",
       "    </tr>\n",
       "  </thead>\n",
       "  <tbody>\n",
       "    <tr>\n",
       "      <th>0</th>\n",
       "      <td>TR11369</td>\n",
       "      <td>328</td>\n",
       "      <td>01/01/2022</td>\n",
       "      <td>P3</td>\n",
       "      <td>7500</td>\n",
       "      <td>4</td>\n",
       "      <td>30000</td>\n",
       "      <td>12</td>\n",
       "      <td>36</td>\n",
       "      <td>0</td>\n",
       "      <td>Married</td>\n",
       "      <td>10.53</td>\n",
       "    </tr>\n",
       "    <tr>\n",
       "      <th>1</th>\n",
       "      <td>TR16356</td>\n",
       "      <td>165</td>\n",
       "      <td>01/01/2022</td>\n",
       "      <td>P9</td>\n",
       "      <td>10000</td>\n",
       "      <td>7</td>\n",
       "      <td>70000</td>\n",
       "      <td>1</td>\n",
       "      <td>44</td>\n",
       "      <td>1</td>\n",
       "      <td>Married</td>\n",
       "      <td>14.58</td>\n",
       "    </tr>\n",
       "    <tr>\n",
       "      <th>2</th>\n",
       "      <td>TR1984</td>\n",
       "      <td>183</td>\n",
       "      <td>01/01/2022</td>\n",
       "      <td>P1</td>\n",
       "      <td>8800</td>\n",
       "      <td>4</td>\n",
       "      <td>35200</td>\n",
       "      <td>4</td>\n",
       "      <td>27</td>\n",
       "      <td>1</td>\n",
       "      <td>Single</td>\n",
       "      <td>0.18</td>\n",
       "    </tr>\n",
       "    <tr>\n",
       "      <th>3</th>\n",
       "      <td>TR35256</td>\n",
       "      <td>160</td>\n",
       "      <td>01/01/2022</td>\n",
       "      <td>P1</td>\n",
       "      <td>8800</td>\n",
       "      <td>7</td>\n",
       "      <td>61600</td>\n",
       "      <td>4</td>\n",
       "      <td>48</td>\n",
       "      <td>1</td>\n",
       "      <td>Married</td>\n",
       "      <td>12.57</td>\n",
       "    </tr>\n",
       "    <tr>\n",
       "      <th>4</th>\n",
       "      <td>TR41231</td>\n",
       "      <td>386</td>\n",
       "      <td>01/01/2022</td>\n",
       "      <td>P9</td>\n",
       "      <td>10000</td>\n",
       "      <td>1</td>\n",
       "      <td>10000</td>\n",
       "      <td>4</td>\n",
       "      <td>33</td>\n",
       "      <td>0</td>\n",
       "      <td>Married</td>\n",
       "      <td>6.95</td>\n",
       "    </tr>\n",
       "  </tbody>\n",
       "</table>\n",
       "</div>"
      ],
      "text/plain": [
       "  TransactionID  CustomerID        Date ProductID  Price  Qty  TotalAmount  \\\n",
       "0       TR11369         328  01/01/2022        P3   7500    4        30000   \n",
       "1       TR16356         165  01/01/2022        P9  10000    7        70000   \n",
       "2        TR1984         183  01/01/2022        P1   8800    4        35200   \n",
       "3       TR35256         160  01/01/2022        P1   8800    7        61600   \n",
       "4       TR41231         386  01/01/2022        P9  10000    1        10000   \n",
       "\n",
       "   StoreID  Age  Gender Marital Status  Income  \n",
       "0       12   36       0        Married   10.53  \n",
       "1        1   44       1        Married   14.58  \n",
       "2        4   27       1         Single    0.18  \n",
       "3        4   48       1        Married   12.57  \n",
       "4        4   33       0        Married    6.95  "
      ]
     },
     "execution_count": 12,
     "metadata": {},
     "output_type": "execute_result"
    }
   ],
   "source": [
    "# merge dataset\n",
    "df1 = pd.merge(df_transaction, df_customer, on='CustomerID', how='left')\n",
    "df1.head()"
   ]
  },
  {
   "cell_type": "code",
   "execution_count": 13,
   "metadata": {},
   "outputs": [
    {
     "data": {
      "text/html": [
       "<div>\n",
       "<style scoped>\n",
       "    .dataframe tbody tr th:only-of-type {\n",
       "        vertical-align: middle;\n",
       "    }\n",
       "\n",
       "    .dataframe tbody tr th {\n",
       "        vertical-align: top;\n",
       "    }\n",
       "\n",
       "    .dataframe thead th {\n",
       "        text-align: right;\n",
       "    }\n",
       "</style>\n",
       "<table border=\"1\" class=\"dataframe\">\n",
       "  <thead>\n",
       "    <tr style=\"text-align: right;\">\n",
       "      <th></th>\n",
       "      <th>TransactionID</th>\n",
       "      <th>CustomerID</th>\n",
       "      <th>Date</th>\n",
       "      <th>ProductID</th>\n",
       "      <th>Price</th>\n",
       "      <th>Qty</th>\n",
       "      <th>TotalAmount</th>\n",
       "      <th>StoreID</th>\n",
       "      <th>Age</th>\n",
       "      <th>Gender</th>\n",
       "      <th>Marital Status</th>\n",
       "      <th>Income</th>\n",
       "      <th>Product Name</th>\n",
       "    </tr>\n",
       "  </thead>\n",
       "  <tbody>\n",
       "    <tr>\n",
       "      <th>0</th>\n",
       "      <td>TR11369</td>\n",
       "      <td>328</td>\n",
       "      <td>01/01/2022</td>\n",
       "      <td>P3</td>\n",
       "      <td>7500</td>\n",
       "      <td>4</td>\n",
       "      <td>30000</td>\n",
       "      <td>12</td>\n",
       "      <td>36</td>\n",
       "      <td>0</td>\n",
       "      <td>Married</td>\n",
       "      <td>10.53</td>\n",
       "      <td>Crackers</td>\n",
       "    </tr>\n",
       "    <tr>\n",
       "      <th>1</th>\n",
       "      <td>TR16356</td>\n",
       "      <td>165</td>\n",
       "      <td>01/01/2022</td>\n",
       "      <td>P9</td>\n",
       "      <td>10000</td>\n",
       "      <td>7</td>\n",
       "      <td>70000</td>\n",
       "      <td>1</td>\n",
       "      <td>44</td>\n",
       "      <td>1</td>\n",
       "      <td>Married</td>\n",
       "      <td>14.58</td>\n",
       "      <td>Yoghurt</td>\n",
       "    </tr>\n",
       "    <tr>\n",
       "      <th>2</th>\n",
       "      <td>TR1984</td>\n",
       "      <td>183</td>\n",
       "      <td>01/01/2022</td>\n",
       "      <td>P1</td>\n",
       "      <td>8800</td>\n",
       "      <td>4</td>\n",
       "      <td>35200</td>\n",
       "      <td>4</td>\n",
       "      <td>27</td>\n",
       "      <td>1</td>\n",
       "      <td>Single</td>\n",
       "      <td>0.18</td>\n",
       "      <td>Choco Bar</td>\n",
       "    </tr>\n",
       "    <tr>\n",
       "      <th>3</th>\n",
       "      <td>TR35256</td>\n",
       "      <td>160</td>\n",
       "      <td>01/01/2022</td>\n",
       "      <td>P1</td>\n",
       "      <td>8800</td>\n",
       "      <td>7</td>\n",
       "      <td>61600</td>\n",
       "      <td>4</td>\n",
       "      <td>48</td>\n",
       "      <td>1</td>\n",
       "      <td>Married</td>\n",
       "      <td>12.57</td>\n",
       "      <td>Choco Bar</td>\n",
       "    </tr>\n",
       "    <tr>\n",
       "      <th>4</th>\n",
       "      <td>TR41231</td>\n",
       "      <td>386</td>\n",
       "      <td>01/01/2022</td>\n",
       "      <td>P9</td>\n",
       "      <td>10000</td>\n",
       "      <td>1</td>\n",
       "      <td>10000</td>\n",
       "      <td>4</td>\n",
       "      <td>33</td>\n",
       "      <td>0</td>\n",
       "      <td>Married</td>\n",
       "      <td>6.95</td>\n",
       "      <td>Yoghurt</td>\n",
       "    </tr>\n",
       "  </tbody>\n",
       "</table>\n",
       "</div>"
      ],
      "text/plain": [
       "  TransactionID  CustomerID        Date ProductID  Price  Qty  TotalAmount  \\\n",
       "0       TR11369         328  01/01/2022        P3   7500    4        30000   \n",
       "1       TR16356         165  01/01/2022        P9  10000    7        70000   \n",
       "2        TR1984         183  01/01/2022        P1   8800    4        35200   \n",
       "3       TR35256         160  01/01/2022        P1   8800    7        61600   \n",
       "4       TR41231         386  01/01/2022        P9  10000    1        10000   \n",
       "\n",
       "   StoreID  Age  Gender Marital Status  Income Product Name  \n",
       "0       12   36       0        Married   10.53     Crackers  \n",
       "1        1   44       1        Married   14.58      Yoghurt  \n",
       "2        4   27       1         Single    0.18    Choco Bar  \n",
       "3        4   48       1        Married   12.57    Choco Bar  \n",
       "4        4   33       0        Married    6.95      Yoghurt  "
      ]
     },
     "execution_count": 13,
     "metadata": {},
     "output_type": "execute_result"
    }
   ],
   "source": [
    "df2 = pd.merge(df1, df_product, on=['ProductID', 'Price'], how='left')\n",
    "df2.head()"
   ]
  },
  {
   "cell_type": "code",
   "execution_count": 14,
   "metadata": {},
   "outputs": [
    {
     "data": {
      "text/html": [
       "<div>\n",
       "<style scoped>\n",
       "    .dataframe tbody tr th:only-of-type {\n",
       "        vertical-align: middle;\n",
       "    }\n",
       "\n",
       "    .dataframe tbody tr th {\n",
       "        vertical-align: top;\n",
       "    }\n",
       "\n",
       "    .dataframe thead th {\n",
       "        text-align: right;\n",
       "    }\n",
       "</style>\n",
       "<table border=\"1\" class=\"dataframe\">\n",
       "  <thead>\n",
       "    <tr style=\"text-align: right;\">\n",
       "      <th></th>\n",
       "      <th>TransactionID</th>\n",
       "      <th>CustomerID</th>\n",
       "      <th>Date</th>\n",
       "      <th>ProductID</th>\n",
       "      <th>Price</th>\n",
       "      <th>Qty</th>\n",
       "      <th>TotalAmount</th>\n",
       "      <th>StoreID</th>\n",
       "      <th>Age</th>\n",
       "      <th>Gender</th>\n",
       "      <th>Marital Status</th>\n",
       "      <th>Income</th>\n",
       "      <th>Product Name</th>\n",
       "      <th>StoreName</th>\n",
       "      <th>GroupStore</th>\n",
       "      <th>Type</th>\n",
       "      <th>Latitude</th>\n",
       "      <th>Longitude</th>\n",
       "    </tr>\n",
       "  </thead>\n",
       "  <tbody>\n",
       "    <tr>\n",
       "      <th>0</th>\n",
       "      <td>TR11369</td>\n",
       "      <td>328</td>\n",
       "      <td>01/01/2022</td>\n",
       "      <td>P3</td>\n",
       "      <td>7500</td>\n",
       "      <td>4</td>\n",
       "      <td>30000</td>\n",
       "      <td>12</td>\n",
       "      <td>36</td>\n",
       "      <td>0</td>\n",
       "      <td>Married</td>\n",
       "      <td>10.53</td>\n",
       "      <td>Crackers</td>\n",
       "      <td>Prestasi Utama</td>\n",
       "      <td>Prestasi</td>\n",
       "      <td>General Trade</td>\n",
       "      <td>-2,990934</td>\n",
       "      <td>104,756554</td>\n",
       "    </tr>\n",
       "    <tr>\n",
       "      <th>1</th>\n",
       "      <td>TR16356</td>\n",
       "      <td>165</td>\n",
       "      <td>01/01/2022</td>\n",
       "      <td>P9</td>\n",
       "      <td>10000</td>\n",
       "      <td>7</td>\n",
       "      <td>70000</td>\n",
       "      <td>1</td>\n",
       "      <td>44</td>\n",
       "      <td>1</td>\n",
       "      <td>Married</td>\n",
       "      <td>14.58</td>\n",
       "      <td>Yoghurt</td>\n",
       "      <td>Prima Tendean</td>\n",
       "      <td>Prima</td>\n",
       "      <td>Modern Trade</td>\n",
       "      <td>-6,2</td>\n",
       "      <td>106,816666</td>\n",
       "    </tr>\n",
       "    <tr>\n",
       "      <th>2</th>\n",
       "      <td>TR1984</td>\n",
       "      <td>183</td>\n",
       "      <td>01/01/2022</td>\n",
       "      <td>P1</td>\n",
       "      <td>8800</td>\n",
       "      <td>4</td>\n",
       "      <td>35200</td>\n",
       "      <td>4</td>\n",
       "      <td>27</td>\n",
       "      <td>1</td>\n",
       "      <td>Single</td>\n",
       "      <td>0.18</td>\n",
       "      <td>Choco Bar</td>\n",
       "      <td>Gita Ginara</td>\n",
       "      <td>Gita</td>\n",
       "      <td>General Trade</td>\n",
       "      <td>-6,966667</td>\n",
       "      <td>110,416664</td>\n",
       "    </tr>\n",
       "    <tr>\n",
       "      <th>3</th>\n",
       "      <td>TR35256</td>\n",
       "      <td>160</td>\n",
       "      <td>01/01/2022</td>\n",
       "      <td>P1</td>\n",
       "      <td>8800</td>\n",
       "      <td>7</td>\n",
       "      <td>61600</td>\n",
       "      <td>4</td>\n",
       "      <td>48</td>\n",
       "      <td>1</td>\n",
       "      <td>Married</td>\n",
       "      <td>12.57</td>\n",
       "      <td>Choco Bar</td>\n",
       "      <td>Gita Ginara</td>\n",
       "      <td>Gita</td>\n",
       "      <td>General Trade</td>\n",
       "      <td>-6,966667</td>\n",
       "      <td>110,416664</td>\n",
       "    </tr>\n",
       "    <tr>\n",
       "      <th>4</th>\n",
       "      <td>TR41231</td>\n",
       "      <td>386</td>\n",
       "      <td>01/01/2022</td>\n",
       "      <td>P9</td>\n",
       "      <td>10000</td>\n",
       "      <td>1</td>\n",
       "      <td>10000</td>\n",
       "      <td>4</td>\n",
       "      <td>33</td>\n",
       "      <td>0</td>\n",
       "      <td>Married</td>\n",
       "      <td>6.95</td>\n",
       "      <td>Yoghurt</td>\n",
       "      <td>Gita Ginara</td>\n",
       "      <td>Gita</td>\n",
       "      <td>General Trade</td>\n",
       "      <td>-6,966667</td>\n",
       "      <td>110,416664</td>\n",
       "    </tr>\n",
       "  </tbody>\n",
       "</table>\n",
       "</div>"
      ],
      "text/plain": [
       "  TransactionID  CustomerID        Date ProductID  Price  Qty  TotalAmount  \\\n",
       "0       TR11369         328  01/01/2022        P3   7500    4        30000   \n",
       "1       TR16356         165  01/01/2022        P9  10000    7        70000   \n",
       "2        TR1984         183  01/01/2022        P1   8800    4        35200   \n",
       "3       TR35256         160  01/01/2022        P1   8800    7        61600   \n",
       "4       TR41231         386  01/01/2022        P9  10000    1        10000   \n",
       "\n",
       "   StoreID  Age  Gender Marital Status  Income Product Name       StoreName  \\\n",
       "0       12   36       0        Married   10.53     Crackers  Prestasi Utama   \n",
       "1        1   44       1        Married   14.58      Yoghurt   Prima Tendean   \n",
       "2        4   27       1         Single    0.18    Choco Bar     Gita Ginara   \n",
       "3        4   48       1        Married   12.57    Choco Bar     Gita Ginara   \n",
       "4        4   33       0        Married    6.95      Yoghurt     Gita Ginara   \n",
       "\n",
       "  GroupStore           Type   Latitude   Longitude  \n",
       "0   Prestasi  General Trade  -2,990934  104,756554  \n",
       "1      Prima   Modern Trade       -6,2  106,816666  \n",
       "2       Gita  General Trade  -6,966667  110,416664  \n",
       "3       Gita  General Trade  -6,966667  110,416664  \n",
       "4       Gita  General Trade  -6,966667  110,416664  "
      ]
     },
     "execution_count": 14,
     "metadata": {},
     "output_type": "execute_result"
    }
   ],
   "source": [
    "df3 = pd.merge(df2, df_store, on='StoreID', how='left')\n",
    "df3.head()"
   ]
  },
  {
   "cell_type": "code",
   "execution_count": 15,
   "metadata": {},
   "outputs": [
    {
     "name": "stdout",
     "output_type": "stream",
     "text": [
      "(5020, 12) (5020, 13) (5020, 18)\n"
     ]
    }
   ],
   "source": [
    "# memastikan kolom baris tetap\n",
    "print(df1.shape, df2.shape, df3.shape)"
   ]
  },
  {
   "cell_type": "code",
   "execution_count": 16,
   "metadata": {},
   "outputs": [],
   "source": [
    "df = df3"
   ]
  },
  {
   "cell_type": "code",
   "execution_count": 17,
   "metadata": {},
   "outputs": [
    {
     "name": "stdout",
     "output_type": "stream",
     "text": [
      "<class 'pandas.core.frame.DataFrame'>\n",
      "Int64Index: 5020 entries, 0 to 5019\n",
      "Data columns (total 18 columns):\n",
      " #   Column          Non-Null Count  Dtype  \n",
      "---  ------          --------------  -----  \n",
      " 0   TransactionID   5020 non-null   object \n",
      " 1   CustomerID      5020 non-null   int64  \n",
      " 2   Date            5020 non-null   object \n",
      " 3   ProductID       5020 non-null   object \n",
      " 4   Price           5020 non-null   int64  \n",
      " 5   Qty             5020 non-null   int64  \n",
      " 6   TotalAmount     5020 non-null   int64  \n",
      " 7   StoreID         5020 non-null   int64  \n",
      " 8   Age             5020 non-null   int64  \n",
      " 9   Gender          5020 non-null   int64  \n",
      " 10  Marital Status  5020 non-null   object \n",
      " 11  Income          5020 non-null   float64\n",
      " 12  Product Name    5020 non-null   object \n",
      " 13  StoreName       5020 non-null   object \n",
      " 14  GroupStore      5020 non-null   object \n",
      " 15  Type            5020 non-null   object \n",
      " 16  Latitude        5020 non-null   object \n",
      " 17  Longitude       5020 non-null   object \n",
      "dtypes: float64(1), int64(7), object(10)\n",
      "memory usage: 745.2+ KB\n"
     ]
    }
   ],
   "source": [
    "df.info()"
   ]
  },
  {
   "cell_type": "code",
   "execution_count": 18,
   "metadata": {},
   "outputs": [
    {
     "data": {
      "text/html": [
       "<div>\n",
       "<style scoped>\n",
       "    .dataframe tbody tr th:only-of-type {\n",
       "        vertical-align: middle;\n",
       "    }\n",
       "\n",
       "    .dataframe tbody tr th {\n",
       "        vertical-align: top;\n",
       "    }\n",
       "\n",
       "    .dataframe thead th {\n",
       "        text-align: right;\n",
       "    }\n",
       "</style>\n",
       "<table border=\"1\" class=\"dataframe\">\n",
       "  <thead>\n",
       "    <tr style=\"text-align: right;\">\n",
       "      <th></th>\n",
       "      <th>Latitude</th>\n",
       "      <th>Longitude</th>\n",
       "    </tr>\n",
       "  </thead>\n",
       "  <tbody>\n",
       "    <tr>\n",
       "      <th>0</th>\n",
       "      <td>-2.990934</td>\n",
       "      <td>104.756554</td>\n",
       "    </tr>\n",
       "    <tr>\n",
       "      <th>1</th>\n",
       "      <td>-6.200000</td>\n",
       "      <td>106.816666</td>\n",
       "    </tr>\n",
       "    <tr>\n",
       "      <th>2</th>\n",
       "      <td>-6.966667</td>\n",
       "      <td>110.416664</td>\n",
       "    </tr>\n",
       "    <tr>\n",
       "      <th>3</th>\n",
       "      <td>-6.966667</td>\n",
       "      <td>110.416664</td>\n",
       "    </tr>\n",
       "    <tr>\n",
       "      <th>4</th>\n",
       "      <td>-6.966667</td>\n",
       "      <td>110.416664</td>\n",
       "    </tr>\n",
       "  </tbody>\n",
       "</table>\n",
       "</div>"
      ],
      "text/plain": [
       "   Latitude   Longitude\n",
       "0 -2.990934  104.756554\n",
       "1 -6.200000  106.816666\n",
       "2 -6.966667  110.416664\n",
       "3 -6.966667  110.416664\n",
       "4 -6.966667  110.416664"
      ]
     },
     "execution_count": 18,
     "metadata": {},
     "output_type": "execute_result"
    }
   ],
   "source": [
    "# cast position of store to float to make it easier to plot\n",
    "\n",
    "df['Latitude'] = df['Latitude'].str.replace(',', '.').astype(float)\n",
    "df['Longitude'] = df['Longitude'].str.replace(',', '.').astype(float)\n",
    "\n",
    "df[['Latitude', 'Longitude']].head()"
   ]
  },
  {
   "cell_type": "code",
   "execution_count": 19,
   "metadata": {},
   "outputs": [
    {
     "name": "stdout",
     "output_type": "stream",
     "text": [
      "<class 'pandas.core.frame.DataFrame'>\n",
      "Int64Index: 5020 entries, 0 to 5019\n",
      "Data columns (total 18 columns):\n",
      " #   Column          Non-Null Count  Dtype  \n",
      "---  ------          --------------  -----  \n",
      " 0   TransactionID   5020 non-null   object \n",
      " 1   CustomerID      5020 non-null   int64  \n",
      " 2   Date            5020 non-null   object \n",
      " 3   ProductID       5020 non-null   object \n",
      " 4   Price           5020 non-null   int64  \n",
      " 5   Qty             5020 non-null   int64  \n",
      " 6   TotalAmount     5020 non-null   int64  \n",
      " 7   StoreID         5020 non-null   int64  \n",
      " 8   Age             5020 non-null   int64  \n",
      " 9   Gender          5020 non-null   int64  \n",
      " 10  Marital Status  5020 non-null   object \n",
      " 11  Income          5020 non-null   float64\n",
      " 12  Product Name    5020 non-null   object \n",
      " 13  StoreName       5020 non-null   object \n",
      " 14  GroupStore      5020 non-null   object \n",
      " 15  Type            5020 non-null   object \n",
      " 16  Latitude        5020 non-null   float64\n",
      " 17  Longitude       5020 non-null   float64\n",
      "dtypes: float64(3), int64(7), object(8)\n",
      "memory usage: 745.2+ KB\n"
     ]
    }
   ],
   "source": [
    "df.info()"
   ]
  },
  {
   "cell_type": "markdown",
   "metadata": {},
   "source": [
    "### Clustering Using Kmeans"
   ]
  },
  {
   "cell_type": "code",
   "execution_count": 20,
   "metadata": {},
   "outputs": [
    {
     "name": "stdout",
     "output_type": "stream",
     "text": [
      "<class 'pandas.core.frame.DataFrame'>\n",
      "Int64Index: 5020 entries, 0 to 5019\n",
      "Data columns (total 18 columns):\n",
      " #   Column          Non-Null Count  Dtype  \n",
      "---  ------          --------------  -----  \n",
      " 0   TransactionID   5020 non-null   object \n",
      " 1   CustomerID      5020 non-null   int64  \n",
      " 2   Date            5020 non-null   object \n",
      " 3   ProductID       5020 non-null   object \n",
      " 4   Price           5020 non-null   int64  \n",
      " 5   Qty             5020 non-null   int64  \n",
      " 6   TotalAmount     5020 non-null   int64  \n",
      " 7   StoreID         5020 non-null   int64  \n",
      " 8   Age             5020 non-null   int64  \n",
      " 9   Gender          5020 non-null   int64  \n",
      " 10  Marital Status  5020 non-null   object \n",
      " 11  Income          5020 non-null   float64\n",
      " 12  Product Name    5020 non-null   object \n",
      " 13  StoreName       5020 non-null   object \n",
      " 14  GroupStore      5020 non-null   object \n",
      " 15  Type            5020 non-null   object \n",
      " 16  Latitude        5020 non-null   float64\n",
      " 17  Longitude       5020 non-null   float64\n",
      "dtypes: float64(3), int64(7), object(8)\n",
      "memory usage: 745.2+ KB\n"
     ]
    }
   ],
   "source": [
    "df.info()"
   ]
  },
  {
   "cell_type": "code",
   "execution_count": 21,
   "metadata": {},
   "outputs": [
    {
     "name": "stderr",
     "output_type": "stream",
     "text": [
      "C:\\Users\\nadhi\\AppData\\Local\\Temp\\ipykernel_13760\\4177613134.py:1: FutureWarning: Indexing with multiple keys (implicitly converted to a tuple of keys) will be deprecated, use a list instead.\n",
      "  df_clustering = df.groupby('CustomerID')['TransactionID', 'Qty', 'TotalAmount'].agg({\n"
     ]
    },
    {
     "data": {
      "text/html": [
       "<div>\n",
       "<style scoped>\n",
       "    .dataframe tbody tr th:only-of-type {\n",
       "        vertical-align: middle;\n",
       "    }\n",
       "\n",
       "    .dataframe tbody tr th {\n",
       "        vertical-align: top;\n",
       "    }\n",
       "\n",
       "    .dataframe thead th {\n",
       "        text-align: right;\n",
       "    }\n",
       "</style>\n",
       "<table border=\"1\" class=\"dataframe\">\n",
       "  <thead>\n",
       "    <tr style=\"text-align: right;\">\n",
       "      <th></th>\n",
       "      <th>TransactionID</th>\n",
       "      <th>Qty</th>\n",
       "      <th>TotalAmount</th>\n",
       "    </tr>\n",
       "  </thead>\n",
       "  <tbody>\n",
       "    <tr>\n",
       "      <th>0</th>\n",
       "      <td>17</td>\n",
       "      <td>60</td>\n",
       "      <td>623300</td>\n",
       "    </tr>\n",
       "    <tr>\n",
       "      <th>1</th>\n",
       "      <td>13</td>\n",
       "      <td>57</td>\n",
       "      <td>392300</td>\n",
       "    </tr>\n",
       "    <tr>\n",
       "      <th>2</th>\n",
       "      <td>15</td>\n",
       "      <td>56</td>\n",
       "      <td>446200</td>\n",
       "    </tr>\n",
       "    <tr>\n",
       "      <th>3</th>\n",
       "      <td>10</td>\n",
       "      <td>46</td>\n",
       "      <td>302500</td>\n",
       "    </tr>\n",
       "    <tr>\n",
       "      <th>4</th>\n",
       "      <td>7</td>\n",
       "      <td>27</td>\n",
       "      <td>268600</td>\n",
       "    </tr>\n",
       "  </tbody>\n",
       "</table>\n",
       "</div>"
      ],
      "text/plain": [
       "   TransactionID  Qty  TotalAmount\n",
       "0             17   60       623300\n",
       "1             13   57       392300\n",
       "2             15   56       446200\n",
       "3             10   46       302500\n",
       "4              7   27       268600"
      ]
     },
     "execution_count": 21,
     "metadata": {},
     "output_type": "execute_result"
    }
   ],
   "source": [
    "df_clustering = df.groupby('CustomerID')['TransactionID', 'Qty', 'TotalAmount'].agg({\n",
    "    'TransactionID': 'count',\n",
    "    'Qty': 'sum',\n",
    "    'TotalAmount': 'sum'\n",
    "})\n",
    "df_clustering = df_clustering.reset_index(drop=True)\n",
    "df_clustering.head()"
   ]
  },
  {
   "cell_type": "code",
   "execution_count": 22,
   "metadata": {},
   "outputs": [
    {
     "name": "stdout",
     "output_type": "stream",
     "text": [
      "<class 'pandas.core.frame.DataFrame'>\n",
      "RangeIndex: 447 entries, 0 to 446\n",
      "Data columns (total 3 columns):\n",
      " #   Column         Non-Null Count  Dtype\n",
      "---  ------         --------------  -----\n",
      " 0   TransactionID  447 non-null    int64\n",
      " 1   Qty            447 non-null    int64\n",
      " 2   TotalAmount    447 non-null    int64\n",
      "dtypes: int64(3)\n",
      "memory usage: 10.6 KB\n"
     ]
    }
   ],
   "source": [
    "df_clustering.info()"
   ]
  },
  {
   "cell_type": "code",
   "execution_count": 23,
   "metadata": {},
   "outputs": [],
   "source": [
    "import matplotlib.pyplot as plt\n",
    "from sklearn.cluster import KMeans"
   ]
  },
  {
   "cell_type": "code",
   "execution_count": 24,
   "metadata": {},
   "outputs": [],
   "source": [
    "# divide to X and y\n",
    "X = df_clustering[['TransactionID', 'Qty']]\n",
    "y = df_clustering['TotalAmount']"
   ]
  },
  {
   "cell_type": "code",
   "execution_count": 25,
   "metadata": {},
   "outputs": [
    {
     "data": {
      "image/png": "[encoded data removed]",
      "text/plain": [
       "<Figure size 640x480 with 1 Axes>"
      ]
     },
     "metadata": {},
     "output_type": "display_data"
    }
   ],
   "source": [
    "plt.scatter(X['TransactionID'], X['Qty'])\n",
    "plt.show()"
   ]
  },
  {
   "cell_type": "code",
   "execution_count": null,
   "metadata": {},
   "outputs": [
    {
     "name": "stderr",
     "output_type": "stream",
     "text": [
      "c:\\Users\\nadhi\\AppData\\Local\\Programs\\Python\\Python310\\lib\\site-packages\\sklearn\\cluster\\_kmeans.py:870: FutureWarning: The default value of `n_init` will change from 10 to 'auto' in 1.4. Set the value of `n_init` explicitly to suppress the warning\n",
      "  warnings.warn(\n"
     ]
    }
   ],
   "source": [
    "model = KMeans(n_clusters=3)\n",
    "model.fit(X)\n",
    "labels = model.predict(X)"
   ]
  },
  {
   "cell_type": "code",
   "execution_count": null,
   "metadata": {},
   "outputs": [
    {
     "data": {
      "image/png": "[encoded data removed]",
      "text/plain": [
       "<Figure size 640x480 with 1 Axes>"
      ]
     },
     "metadata": {},
     "output_type": "display_data"
    }
   ],
   "source": [
    "plt.scatter(X['TransactionID'], X['Qty'], c=labels)\n",
    "plt.show()"
   ]
  },
  {
   "cell_type": "markdown",
   "metadata": {},
   "source": [
    "### Time Series ARIMA\n"
   ]
  },
  {
   "cell_type": "code",
   "execution_count": null,
   "metadata": {},
   "outputs": [
    {
     "name": "stdout",
     "output_type": "stream",
     "text": [
      "Note: you may need to restart the kernel to use updated packages.\n"
     ]
    },
    {
     "name": "stderr",
     "output_type": "stream",
     "text": [
      "\n",
      "[notice] A new release of pip is available: 23.0.1 -> 23.2\n",
      "[notice] To update, run: python.exe -m pip install --upgrade pip\n"
     ]
    },
    {
     "name": "stdout",
     "output_type": "stream",
     "text": [
      "Collecting statsmodels\n",
      "  Downloading statsmodels-0.14.0-cp310-cp310-win_amd64.whl (9.2 MB)\n",
      "     ---------------------------------------- 0.0/9.2 MB ? eta -:--:--\n",
      "     ---------------------------------------- 0.0/9.2 MB ? eta -:--:--\n",
      "     ---------------------------------------- 0.0/9.2 MB ? eta -:--:--\n",
      "     ---------------------------------------- 0.1/9.2 MB 544.7 kB/s eta 0:00:17\n",
      "     ---------------------------------------- 0.1/9.2 MB 751.6 kB/s eta 0:00:13\n",
      "      --------------------------------------- 0.1/9.2 MB 722.1 kB/s eta 0:00:13\n",
      "      --------------------------------------- 0.2/9.2 MB 841.6 kB/s eta 0:00:11\n",
      "      --------------------------------------- 0.2/9.2 MB 811.5 kB/s eta 0:00:12\n",
      "     - -------------------------------------- 0.3/9.2 MB 811.7 kB/s eta 0:00:12\n",
      "     - -------------------------------------- 0.3/9.2 MB 791.9 kB/s eta 0:00:12\n",
      "     - -------------------------------------- 0.3/9.2 MB 807.1 kB/s eta 0:00:11\n",
      "     - -------------------------------------- 0.4/9.2 MB 791.2 kB/s eta 0:00:12\n",
      "     - -------------------------------------- 0.4/9.2 MB 798.7 kB/s eta 0:00:12\n",
      "     - -------------------------------------- 0.5/9.2 MB 805.0 kB/s eta 0:00:11\n",
      "     -- ------------------------------------- 0.5/9.2 MB 790.3 kB/s eta 0:00:12\n",
      "     -- ------------------------------------- 0.5/9.2 MB 796.1 kB/s eta 0:00:11\n",
      "     -- ------------------------------------- 0.6/9.2 MB 804.9 kB/s eta 0:00:11\n",
      "     -- ------------------------------------- 0.6/9.2 MB 795.2 kB/s eta 0:00:11\n",
      "     -- ------------------------------------- 0.6/9.2 MB 796.6 kB/s eta 0:00:11\n",
      "     -- ------------------------------------- 0.7/9.2 MB 803.9 kB/s eta 0:00:11\n",
      "     --- ------------------------------------ 0.7/9.2 MB 795.8 kB/s eta 0:00:11\n",
      "     --- ------------------------------------ 0.7/9.2 MB 788.5 kB/s eta 0:00:11\n",
      "     --- ------------------------------------ 0.8/9.2 MB 805.9 kB/s eta 0:00:11\n",
      "     --- ------------------------------------ 0.8/9.2 MB 798.7 kB/s eta 0:00:11\n",
      "     --- ------------------------------------ 0.9/9.2 MB 800.3 kB/s eta 0:00:11\n",
      "     --- ------------------------------------ 0.9/9.2 MB 805.0 kB/s eta 0:00:11\n",
      "     ---- ----------------------------------- 0.9/9.2 MB 799.4 kB/s eta 0:00:11\n",
      "     ---- ----------------------------------- 1.0/9.2 MB 793.7 kB/s eta 0:00:11\n",
      "     ---- ----------------------------------- 1.0/9.2 MB 796.6 kB/s eta 0:00:11\n",
      "     ---- ----------------------------------- 1.0/9.2 MB 797.4 kB/s eta 0:00:11\n",
      "     ---- ----------------------------------- 1.1/9.2 MB 792.4 kB/s eta 0:00:11\n",
      "     ---- ----------------------------------- 1.1/9.2 MB 796.9 kB/s eta 0:00:11\n",
      "     ---- ----------------------------------- 1.1/9.2 MB 799.3 kB/s eta 0:00:11\n",
      "     ----- ---------------------------------- 1.2/9.2 MB 801.6 kB/s eta 0:00:11\n",
      "     ----- ---------------------------------- 1.2/9.2 MB 804.3 kB/s eta 0:00:10\n",
      "     ----- ---------------------------------- 1.3/9.2 MB 799.8 kB/s eta 0:00:10\n",
      "     ----- ---------------------------------- 1.3/9.2 MB 803.0 kB/s eta 0:00:10\n",
      "     ----- ---------------------------------- 1.3/9.2 MB 803.9 kB/s eta 0:00:10\n",
      "     ----- ---------------------------------- 1.4/9.2 MB 799.7 kB/s eta 0:00:10\n",
      "     ------ --------------------------------- 1.4/9.2 MB 795.8 kB/s eta 0:00:10\n",
      "     ------ --------------------------------- 1.4/9.2 MB 799.2 kB/s eta 0:00:10\n",
      "     ------ --------------------------------- 1.5/9.2 MB 799.7 kB/s eta 0:00:10\n",
      "     ------ --------------------------------- 1.5/9.2 MB 796.4 kB/s eta 0:00:10\n",
      "     ------ --------------------------------- 1.6/9.2 MB 804.5 kB/s eta 0:00:10\n",
      "     ------ --------------------------------- 1.6/9.2 MB 800.9 kB/s eta 0:00:10\n",
      "     ------- -------------------------------- 1.6/9.2 MB 797.9 kB/s eta 0:00:10\n",
      "     ------- -------------------------------- 1.7/9.2 MB 798.3 kB/s eta 0:00:10\n",
      "     ------- -------------------------------- 1.7/9.2 MB 798.3 kB/s eta 0:00:10\n",
      "     ------- -------------------------------- 1.7/9.2 MB 797.9 kB/s eta 0:00:10\n",
      "     ------- -------------------------------- 1.8/9.2 MB 794.8 kB/s eta 0:00:10\n",
      "     ------- -------------------------------- 1.8/9.2 MB 795.7 kB/s eta 0:00:10\n",
      "     -------- ------------------------------- 1.8/9.2 MB 792.8 kB/s eta 0:00:10\n",
      "     -------- ------------------------------- 1.9/9.2 MB 799.5 kB/s eta 0:00:10\n",
      "     -------- ------------------------------- 1.9/9.2 MB 796.9 kB/s eta 0:00:10\n",
      "     -------- ------------------------------- 1.9/9.2 MB 794.2 kB/s eta 0:00:10\n",
      "     -------- ------------------------------- 2.0/9.2 MB 794.6 kB/s eta 0:00:10\n",
      "     -------- ------------------------------- 2.0/9.2 MB 792.0 kB/s eta 0:00:10\n",
      "     -------- ------------------------------- 2.1/9.2 MB 798.4 kB/s eta 0:00:09\n",
      "     --------- ------------------------------ 2.1/9.2 MB 795.8 kB/s eta 0:00:09\n",
      "     --------- ------------------------------ 2.2/9.2 MB 796.5 kB/s eta 0:00:09\n",
      "     --------- ------------------------------ 2.2/9.2 MB 794.0 kB/s eta 0:00:09\n",
      "     --------- ------------------------------ 2.2/9.2 MB 796.2 kB/s eta 0:00:09\n",
      "     --------- ------------------------------ 2.2/9.2 MB 793.9 kB/s eta 0:00:09\n",
      "     --------- ------------------------------ 2.2/9.2 MB 793.9 kB/s eta 0:00:09\n",
      "     ---------- ----------------------------- 2.3/9.2 MB 792.8 kB/s eta 0:00:09\n",
      "     ---------- ----------------------------- 2.3/9.2 MB 794.9 kB/s eta 0:00:09\n",
      "     ---------- ----------------------------- 2.4/9.2 MB 791.3 kB/s eta 0:00:09\n",
      "     ---------- ----------------------------- 2.4/9.2 MB 793.1 kB/s eta 0:00:09\n",
      "     ---------- ----------------------------- 2.5/9.2 MB 791.0 kB/s eta 0:00:09\n",
      "     ---------- ----------------------------- 2.5/9.2 MB 789.2 kB/s eta 0:00:09\n",
      "     ---------- ----------------------------- 2.5/9.2 MB 787.2 kB/s eta 0:00:09\n",
      "     ----------- ---------------------------- 2.6/9.2 MB 788.4 kB/s eta 0:00:09\n",
      "     ----------- ---------------------------- 2.6/9.2 MB 786.5 kB/s eta 0:00:09\n",
      "     ----------- ---------------------------- 2.6/9.2 MB 784.6 kB/s eta 0:00:09\n",
      "     ----------- ---------------------------- 2.7/9.2 MB 786.5 kB/s eta 0:00:09\n",
      "     ----------- ---------------------------- 2.7/9.2 MB 783.6 kB/s eta 0:00:09\n",
      "     ----------- ---------------------------- 2.7/9.2 MB 785.2 kB/s eta 0:00:09\n",
      "     ------------ --------------------------- 2.8/9.2 MB 783.7 kB/s eta 0:00:09\n",
      "     ------------ --------------------------- 2.8/9.2 MB 782.4 kB/s eta 0:00:09\n",
      "     ------------ --------------------------- 2.8/9.2 MB 783.1 kB/s eta 0:00:09\n",
      "     ------------ --------------------------- 2.9/9.2 MB 781.4 kB/s eta 0:00:09\n",
      "     ------------ --------------------------- 2.9/9.2 MB 783.2 kB/s eta 0:00:09\n",
      "     ------------ --------------------------- 2.9/9.2 MB 781.6 kB/s eta 0:00:09\n",
      "     ------------ --------------------------- 3.0/9.2 MB 780.0 kB/s eta 0:00:09\n",
      "     ------------- -------------------------- 3.0/9.2 MB 780.5 kB/s eta 0:00:08\n",
      "     ------------- -------------------------- 3.0/9.2 MB 779.2 kB/s eta 0:00:08\n",
      "     ------------- -------------------------- 3.1/9.2 MB 780.3 kB/s eta 0:00:08\n",
      "     ------------- -------------------------- 3.1/9.2 MB 778.8 kB/s eta 0:00:08\n",
      "     ------------- -------------------------- 3.1/9.2 MB 780.4 kB/s eta 0:00:08\n",
      "     ------------- -------------------------- 3.2/9.2 MB 779.0 kB/s eta 0:00:08\n",
      "     ------------- -------------------------- 3.2/9.2 MB 777.5 kB/s eta 0:00:08\n",
      "     -------------- ------------------------- 3.2/9.2 MB 778.6 kB/s eta 0:00:08\n",
      "     -------------- ------------------------- 3.3/9.2 MB 777.2 kB/s eta 0:00:08\n",
      "     -------------- ------------------------- 3.3/9.2 MB 777.9 kB/s eta 0:00:08\n",
      "     -------------- ------------------------- 3.4/9.2 MB 776.5 kB/s eta 0:00:08\n",
      "     -------------- ------------------------- 3.4/9.2 MB 776.5 kB/s eta 0:00:08\n",
      "     -------------- ------------------------- 3.4/9.2 MB 776.7 kB/s eta 0:00:08\n",
      "     -------------- ------------------------- 3.5/9.2 MB 775.4 kB/s eta 0:00:08\n",
      "     --------------- ------------------------ 3.5/9.2 MB 776.4 kB/s eta 0:00:08\n",
      "     --------------- ------------------------ 3.5/9.2 MB 775.2 kB/s eta 0:00:08\n",
      "     --------------- ------------------------ 3.6/9.2 MB 773.9 kB/s eta 0:00:08\n",
      "     --------------- ------------------------ 3.6/9.2 MB 775.4 kB/s eta 0:00:08\n",
      "     --------------- ------------------------ 3.6/9.2 MB 773.4 kB/s eta 0:00:08\n",
      "     --------------- ------------------------ 3.7/9.2 MB 772.2 kB/s eta 0:00:08\n",
      "     ---------------- ----------------------- 3.7/9.2 MB 773.6 kB/s eta 0:00:08\n",
      "     ---------------- ----------------------- 3.7/9.2 MB 774.6 kB/s eta 0:00:08\n",
      "     ---------------- ----------------------- 3.8/9.2 MB 773.4 kB/s eta 0:00:08\n",
      "     ---------------- ----------------------- 3.8/9.2 MB 772.3 kB/s eta 0:00:08\n",
      "     ---------------- ----------------------- 3.8/9.2 MB 771.2 kB/s eta 0:00:07\n",
      "     ---------------- ----------------------- 3.9/9.2 MB 772.5 kB/s eta 0:00:07\n",
      "     ---------------- ----------------------- 3.9/9.2 MB 773.4 kB/s eta 0:00:07\n",
      "     ----------------- ---------------------- 3.9/9.2 MB 772.3 kB/s eta 0:00:07\n",
      "     ----------------- ---------------------- 4.0/9.2 MB 769.0 kB/s eta 0:00:07\n",
      "     ----------------- ---------------------- 4.0/9.2 MB 771.9 kB/s eta 0:00:07\n",
      "     ----------------- ---------------------- 4.0/9.2 MB 770.8 kB/s eta 0:00:07\n",
      "     ----------------- ---------------------- 4.1/9.2 MB 769.8 kB/s eta 0:00:07\n",
      "     ----------------- ---------------------- 4.1/9.2 MB 768.8 kB/s eta 0:00:07\n",
      "     ------------------ --------------------- 4.1/9.2 MB 769.7 kB/s eta 0:00:07\n",
      "     ------------------ --------------------- 4.2/9.2 MB 768.7 kB/s eta 0:00:07\n",
      "     ------------------ --------------------- 4.2/9.2 MB 767.7 kB/s eta 0:00:07\n",
      "     ------------------ --------------------- 4.2/9.2 MB 770.8 kB/s eta 0:00:07\n",
      "     ------------------ --------------------- 4.3/9.2 MB 769.8 kB/s eta 0:00:07\n",
      "     ------------------ --------------------- 4.3/9.2 MB 770.4 kB/s eta 0:00:07\n",
      "     ------------------ --------------------- 4.4/9.2 MB 769.4 kB/s eta 0:00:07\n",
      "     ------------------- -------------------- 4.4/9.2 MB 768.5 kB/s eta 0:00:07\n",
      "     ------------------- -------------------- 4.4/9.2 MB 767.6 kB/s eta 0:00:07\n",
      "     ------------------- -------------------- 4.4/9.2 MB 767.0 kB/s eta 0:00:07\n",
      "     ------------------- -------------------- 4.5/9.2 MB 767.5 kB/s eta 0:00:07\n",
      "     ------------------- -------------------- 4.5/9.2 MB 766.7 kB/s eta 0:00:07\n",
      "     ------------------- -------------------- 4.6/9.2 MB 767.7 kB/s eta 0:00:07\n",
      "     ------------------- -------------------- 4.6/9.2 MB 766.8 kB/s eta 0:00:07\n",
      "     -------------------- ------------------- 4.6/9.2 MB 766.1 kB/s eta 0:00:06\n",
      "     -------------------- ------------------- 4.7/9.2 MB 766.9 kB/s eta 0:00:06\n",
      "     -------------------- ------------------- 4.7/9.2 MB 766.0 kB/s eta 0:00:06\n",
      "     -------------------- ------------------- 4.7/9.2 MB 765.2 kB/s eta 0:00:06\n",
      "     -------------------- ------------------- 4.8/9.2 MB 765.7 kB/s eta 0:00:06\n",
      "     -------------------- ------------------- 4.8/9.2 MB 764.9 kB/s eta 0:00:06\n",
      "     -------------------- ------------------- 4.8/9.2 MB 764.1 kB/s eta 0:00:06\n",
      "     --------------------- ------------------ 4.9/9.2 MB 763.3 kB/s eta 0:00:06\n",
      "     --------------------- ------------------ 4.9/9.2 MB 766.0 kB/s eta 0:00:06\n",
      "     --------------------- ------------------ 4.9/9.2 MB 765.2 kB/s eta 0:00:06\n",
      "     --------------------- ------------------ 5.0/9.2 MB 764.4 kB/s eta 0:00:06\n",
      "     --------------------- ------------------ 5.0/9.2 MB 763.6 kB/s eta 0:00:06\n",
      "     --------------------- ------------------ 5.0/9.2 MB 764.6 kB/s eta 0:00:06\n",
      "     ---------------------- ----------------- 5.1/9.2 MB 763.4 kB/s eta 0:00:06\n",
      "     ---------------------- ----------------- 5.1/9.2 MB 763.1 kB/s eta 0:00:06\n",
      "     ---------------------- ----------------- 5.1/9.2 MB 763.5 kB/s eta 0:00:06\n",
      "     ---------------------- ----------------- 5.2/9.2 MB 762.9 kB/s eta 0:00:06\n",
      "     ---------------------- ----------------- 5.2/9.2 MB 762.1 kB/s eta 0:00:06\n",
      "     ---------------------- ----------------- 5.2/9.2 MB 762.9 kB/s eta 0:00:06\n",
      "     ---------------------- ----------------- 5.3/9.2 MB 762.1 kB/s eta 0:00:06\n",
      "     ----------------------- ---------------- 5.3/9.2 MB 761.4 kB/s eta 0:00:06\n",
      "     ----------------------- ---------------- 5.3/9.2 MB 760.7 kB/s eta 0:00:06\n",
      "     ----------------------- ---------------- 5.4/9.2 MB 760.0 kB/s eta 0:00:06\n",
      "     ----------------------- ---------------- 5.4/9.2 MB 762.4 kB/s eta 0:00:05\n",
      "     ----------------------- ---------------- 5.4/9.2 MB 761.7 kB/s eta 0:00:05\n",
      "     ----------------------- ---------------- 5.5/9.2 MB 761.0 kB/s eta 0:00:05\n",
      "     ----------------------- ---------------- 5.5/9.2 MB 761.6 kB/s eta 0:00:05\n",
      "     ------------------------ --------------- 5.6/9.2 MB 760.9 kB/s eta 0:00:05\n",
      "     ------------------------ --------------- 5.6/9.2 MB 760.4 kB/s eta 0:00:05\n",
      "     ------------------------ --------------- 5.6/9.2 MB 759.5 kB/s eta 0:00:05\n",
      "     ------------------------ --------------- 5.7/9.2 MB 760.2 kB/s eta 0:00:05\n",
      "     ------------------------ --------------- 5.7/9.2 MB 759.5 kB/s eta 0:00:05\n",
      "     ------------------------ --------------- 5.7/9.2 MB 759.0 kB/s eta 0:00:05\n",
      "     ------------------------ --------------- 5.7/9.2 MB 759.8 kB/s eta 0:00:05\n",
      "     ------------------------- -------------- 5.8/9.2 MB 759.2 kB/s eta 0:00:05\n",
      "     ------------------------- -------------- 5.8/9.2 MB 758.6 kB/s eta 0:00:05\n",
      "     ------------------------- -------------- 5.8/9.2 MB 759.3 kB/s eta 0:00:05\n",
      "     ------------------------- -------------- 5.9/9.2 MB 758.4 kB/s eta 0:00:05\n",
      "     ------------------------- -------------- 5.9/9.2 MB 759.1 kB/s eta 0:00:05\n",
      "     ------------------------- -------------- 6.0/9.2 MB 758.5 kB/s eta 0:00:05\n",
      "     -------------------------- ------------- 6.0/9.2 MB 757.9 kB/s eta 0:00:05\n",
      "     -------------------------- ------------- 6.0/9.2 MB 758.8 kB/s eta 0:00:05\n",
      "     -------------------------- ------------- 6.1/9.2 MB 758.1 kB/s eta 0:00:05\n",
      "     -------------------------- ------------- 6.1/9.2 MB 758.9 kB/s eta 0:00:05\n",
      "     -------------------------- ------------- 6.1/9.2 MB 758.3 kB/s eta 0:00:05\n",
      "     -------------------------- ------------- 6.1/9.2 MB 758.0 kB/s eta 0:00:05\n",
      "     -------------------------- ------------- 6.2/9.2 MB 758.1 kB/s eta 0:00:04\n",
      "     --------------------------- ------------ 6.2/9.2 MB 757.5 kB/s eta 0:00:04\n",
      "     --------------------------- ------------ 6.3/9.2 MB 757.0 kB/s eta 0:00:04\n",
      "     --------------------------- ------------ 6.3/9.2 MB 756.4 kB/s eta 0:00:04\n",
      "     --------------------------- ------------ 6.3/9.2 MB 758.4 kB/s eta 0:00:04\n",
      "     --------------------------- ------------ 6.4/9.2 MB 757.9 kB/s eta 0:00:04\n",
      "     --------------------------- ------------ 6.4/9.2 MB 757.3 kB/s eta 0:00:04\n",
      "     --------------------------- ------------ 6.4/9.2 MB 756.8 kB/s eta 0:00:04\n",
      "     ---------------------------- ----------- 6.5/9.2 MB 756.2 kB/s eta 0:00:04\n",
      "     ---------------------------- ----------- 6.5/9.2 MB 756.8 kB/s eta 0:00:04\n",
      "     ---------------------------- ----------- 6.5/9.2 MB 756.3 kB/s eta 0:00:04\n",
      "     ---------------------------- ----------- 6.6/9.2 MB 755.7 kB/s eta 0:00:04\n",
      "     ---------------------------- ----------- 6.6/9.2 MB 756.2 kB/s eta 0:00:04\n",
      "     ---------------------------- ----------- 6.6/9.2 MB 755.7 kB/s eta 0:00:04\n",
      "     ----------------------------- ---------- 6.7/9.2 MB 756.3 kB/s eta 0:00:04\n",
      "     ----------------------------- ---------- 6.7/9.2 MB 756.1 kB/s eta 0:00:04\n",
      "     ----------------------------- ---------- 6.7/9.2 MB 755.2 kB/s eta 0:00:04\n",
      "     ----------------------------- ---------- 6.8/9.2 MB 756.0 kB/s eta 0:00:04\n",
      "     ----------------------------- ---------- 6.8/9.2 MB 755.5 kB/s eta 0:00:04\n",
      "     ----------------------------- ---------- 6.9/9.2 MB 756.1 kB/s eta 0:00:04\n",
      "     ----------------------------- ---------- 6.9/9.2 MB 755.4 kB/s eta 0:00:04\n",
      "     ------------------------------ --------- 6.9/9.2 MB 756.0 kB/s eta 0:00:04\n",
      "     ------------------------------ --------- 7.0/9.2 MB 755.5 kB/s eta 0:00:03\n",
      "     ------------------------------ --------- 7.0/9.2 MB 755.0 kB/s eta 0:00:03\n",
      "     ------------------------------ --------- 7.0/9.2 MB 754.5 kB/s eta 0:00:03\n",
      "     ------------------------------ --------- 7.1/9.2 MB 755.3 kB/s eta 0:00:03\n",
      "     ------------------------------ --------- 7.1/9.2 MB 755.8 kB/s eta 0:00:03\n",
      "     ------------------------------- -------- 7.1/9.2 MB 755.2 kB/s eta 0:00:03\n",
      "     ------------------------------- -------- 7.2/9.2 MB 754.8 kB/s eta 0:00:03\n",
      "     ------------------------------- -------- 7.2/9.2 MB 755.3 kB/s eta 0:00:03\n",
      "     ------------------------------- -------- 7.2/9.2 MB 754.8 kB/s eta 0:00:03\n",
      "     ------------------------------- -------- 7.3/9.2 MB 754.3 kB/s eta 0:00:03\n",
      "     ------------------------------- -------- 7.3/9.2 MB 752.8 kB/s eta 0:00:03\n",
      "     ------------------------------- -------- 7.3/9.2 MB 754.6 kB/s eta 0:00:03\n",
      "     -------------------------------- ------- 7.4/9.2 MB 755.1 kB/s eta 0:00:03\n",
      "     -------------------------------- ------- 7.4/9.2 MB 754.6 kB/s eta 0:00:03\n",
      "     -------------------------------- ------- 7.4/9.2 MB 754.2 kB/s eta 0:00:03\n",
      "     -------------------------------- ------- 7.5/9.2 MB 753.8 kB/s eta 0:00:03\n",
      "     -------------------------------- ------- 7.5/9.2 MB 753.3 kB/s eta 0:00:03\n",
      "     -------------------------------- ------- 7.5/9.2 MB 755.0 kB/s eta 0:00:03\n",
      "     -------------------------------- ------- 7.6/9.2 MB 754.6 kB/s eta 0:00:03\n",
      "     -------------------------------- ------- 7.6/9.2 MB 754.2 kB/s eta 0:00:03\n",
      "     --------------------------------- ------ 7.6/9.2 MB 753.5 kB/s eta 0:00:03\n",
      "     --------------------------------- ------ 7.7/9.2 MB 753.0 kB/s eta 0:00:03\n",
      "     --------------------------------- ------ 7.7/9.2 MB 752.5 kB/s eta 0:00:03\n",
      "     --------------------------------- ------ 7.7/9.2 MB 754.3 kB/s eta 0:00:02\n",
      "     --------------------------------- ------ 7.8/9.2 MB 753.8 kB/s eta 0:00:02\n",
      "     --------------------------------- ------ 7.8/9.2 MB 753.3 kB/s eta 0:00:02\n",
      "     ---------------------------------- ----- 7.8/9.2 MB 752.8 kB/s eta 0:00:02\n",
      "     ---------------------------------- ----- 7.9/9.2 MB 752.4 kB/s eta 0:00:02\n",
      "     ---------------------------------- ----- 7.9/9.2 MB 752.9 kB/s eta 0:00:02\n",
      "     ---------------------------------- ----- 7.9/9.2 MB 752.4 kB/s eta 0:00:02\n",
      "     ---------------------------------- ----- 8.0/9.2 MB 752.0 kB/s eta 0:00:02\n",
      "     ---------------------------------- ----- 8.0/9.2 MB 752.7 kB/s eta 0:00:02\n",
      "     ---------------------------------- ----- 8.0/9.2 MB 752.3 kB/s eta 0:00:02\n",
      "     ----------------------------------- ---- 8.1/9.2 MB 752.8 kB/s eta 0:00:02\n",
      "     ----------------------------------- ---- 8.1/9.2 MB 752.4 kB/s eta 0:00:02\n",
      "     ----------------------------------- ---- 8.1/9.2 MB 752.0 kB/s eta 0:00:02\n",
      "     ----------------------------------- ---- 8.2/9.2 MB 752.6 kB/s eta 0:00:02\n",
      "     ----------------------------------- ---- 8.2/9.2 MB 752.2 kB/s eta 0:00:02\n",
      "     ----------------------------------- ---- 8.2/9.2 MB 751.7 kB/s eta 0:00:02\n",
      "     ----------------------------------- ---- 8.3/9.2 MB 752.3 kB/s eta 0:00:02\n",
      "     ------------------------------------ --- 8.3/9.2 MB 752.7 kB/s eta 0:00:02\n",
      "     ------------------------------------ --- 8.4/9.2 MB 752.3 kB/s eta 0:00:02\n",
      "     ------------------------------------ --- 8.4/9.2 MB 752.3 kB/s eta 0:00:02\n",
      "     ------------------------------------ --- 8.4/9.2 MB 751.5 kB/s eta 0:00:02\n",
      "     ------------------------------------ --- 8.4/9.2 MB 751.1 kB/s eta 0:00:02\n",
      "     ------------------------------------ --- 8.5/9.2 MB 751.6 kB/s eta 0:00:01\n",
      "     ------------------------------------- -- 8.5/9.2 MB 751.2 kB/s eta 0:00:01\n",
      "     ------------------------------------- -- 8.6/9.2 MB 751.8 kB/s eta 0:00:01\n",
      "     ------------------------------------- -- 8.6/9.2 MB 750.4 kB/s eta 0:00:01\n",
      "     ------------------------------------- -- 8.6/9.2 MB 751.0 kB/s eta 0:00:01\n",
      "     ------------------------------------- -- 8.7/9.2 MB 750.4 kB/s eta 0:00:01\n",
      "     ------------------------------------- -- 8.7/9.2 MB 751.1 kB/s eta 0:00:01\n",
      "     ------------------------------------- -- 8.7/9.2 MB 750.7 kB/s eta 0:00:01\n",
      "     ------------------------------------- -- 8.7/9.2 MB 750.4 kB/s eta 0:00:01\n",
      "     -------------------------------------- - 8.8/9.2 MB 750.0 kB/s eta 0:00:01\n",
      "     -------------------------------------- - 8.8/9.2 MB 751.5 kB/s eta 0:00:01\n",
      "     -------------------------------------- - 8.9/9.2 MB 750.0 kB/s eta 0:00:01\n",
      "     -------------------------------------- - 8.9/9.2 MB 750.4 kB/s eta 0:00:01\n",
      "     -------------------------------------- - 8.9/9.2 MB 750.4 kB/s eta 0:00:01\n",
      "     -------------------------------------- - 8.9/9.2 MB 749.0 kB/s eta 0:00:01\n",
      "     ---------------------------------------  9.0/9.2 MB 750.5 kB/s eta 0:00:01\n",
      "     ---------------------------------------  9.0/9.2 MB 750.1 kB/s eta 0:00:01\n",
      "     ---------------------------------------  9.0/9.2 MB 750.7 kB/s eta 0:00:01\n",
      "     ---------------------------------------  9.1/9.2 MB 750.3 kB/s eta 0:00:01\n",
      "     ---------------------------------------  9.1/9.2 MB 750.7 kB/s eta 0:00:01\n",
      "     ---------------------------------------  9.2/9.2 MB 750.3 kB/s eta 0:00:01\n",
      "     ---------------------------------------  9.2/9.2 MB 750.0 kB/s eta 0:00:01\n",
      "     ---------------------------------------  9.2/9.2 MB 749.7 kB/s eta 0:00:01\n",
      "     ---------------------------------------- 9.2/9.2 MB 747.9 kB/s eta 0:00:00\n",
      "Requirement already satisfied: pandas>=1.0 in c:\\users\\nadhi\\appdata\\local\\programs\\python\\python310\\lib\\site-packages (from statsmodels) (1.5.3)\n",
      "Requirement already satisfied: packaging>=21.3 in c:\\users\\nadhi\\appdata\\roaming\\python\\python310\\site-packages (from statsmodels) (23.0)\n",
      "Requirement already satisfied: scipy!=1.9.2,>=1.4 in c:\\users\\nadhi\\appdata\\local\\programs\\python\\python310\\lib\\site-packages (from statsmodels) (1.10.1)\n",
      "Requirement already satisfied: numpy>=1.22.3 in c:\\users\\nadhi\\appdata\\local\\programs\\python\\python310\\lib\\site-packages (from statsmodels) (1.23.3)\n",
      "Collecting patsy>=0.5.2\n",
      "  Downloading patsy-0.5.3-py2.py3-none-any.whl (233 kB)\n",
      "     ---------------------------------------- 0.0/233.8 kB ? eta -:--:--\n",
      "     ---- -------------------------------- 30.7/233.8 kB 660.6 kB/s eta 0:00:01\n",
      "     --------- --------------------------- 61.4/233.8 kB 825.8 kB/s eta 0:00:01\n",
      "     -------------- ---------------------- 92.2/233.8 kB 751.6 kB/s eta 0:00:01\n",
      "     ------------------ ----------------- 122.9/233.8 kB 722.1 kB/s eta 0:00:01\n",
      "     ------------------------- ---------- 163.8/233.8 kB 756.6 kB/s eta 0:00:01\n",
      "     ----------------------------- ------ 194.6/233.8 kB 737.3 kB/s eta 0:00:01\n",
      "     ------------------------------------ 233.8/233.8 kB 752.8 kB/s eta 0:00:00\n",
      "Requirement already satisfied: pytz>=2020.1 in c:\\users\\nadhi\\appdata\\local\\programs\\python\\python310\\lib\\site-packages (from pandas>=1.0->statsmodels) (2022.7.1)\n",
      "Requirement already satisfied: python-dateutil>=2.8.1 in c:\\users\\nadhi\\appdata\\roaming\\python\\python310\\site-packages (from pandas>=1.0->statsmodels) (2.8.2)\n",
      "Requirement already satisfied: six in c:\\users\\nadhi\\appdata\\roaming\\python\\python310\\site-packages (from patsy>=0.5.2->statsmodels) (1.16.0)\n",
      "Installing collected packages: patsy, statsmodels\n",
      "Successfully installed patsy-0.5.3 statsmodels-0.14.0\n"
     ]
    }
   ],
   "source": [
    "pip install statsmodels"
   ]
  },
  {
   "cell_type": "code",
   "execution_count": null,
   "metadata": {},
   "outputs": [],
   "source": [
    "import numpy as np\n",
    "import matplotlib.pyplot as plt\n",
    "from statsmodels.tsa.arima.model import ARIMA"
   ]
  },
  {
   "cell_type": "code",
   "execution_count": null,
   "metadata": {},
   "outputs": [
    {
     "name": "stdout",
     "output_type": "stream",
     "text": [
      "<class 'pandas.core.frame.DataFrame'>\n",
      "Int64Index: 5020 entries, 0 to 5019\n",
      "Data columns (total 18 columns):\n",
      " #   Column          Non-Null Count  Dtype  \n",
      "---  ------          --------------  -----  \n",
      " 0   TransactionID   5020 non-null   object \n",
      " 1   CustomerID      5020 non-null   int64  \n",
      " 2   Date            5020 non-null   object \n",
      " 3   ProductID       5020 non-null   object \n",
      " 4   Price           5020 non-null   int64  \n",
      " 5   Qty             5020 non-null   int64  \n",
      " 6   TotalAmount     5020 non-null   int64  \n",
      " 7   StoreID         5020 non-null   int64  \n",
      " 8   Age             5020 non-null   int64  \n",
      " 9   Gender          5020 non-null   int64  \n",
      " 10  Marital Status  5020 non-null   object \n",
      " 11  Income          5020 non-null   float64\n",
      " 12  Product Name    5020 non-null   object \n",
      " 13  StoreName       5020 non-null   object \n",
      " 14  GroupStore      5020 non-null   object \n",
      " 15  Type            5020 non-null   object \n",
      " 16  Latitude        5020 non-null   float64\n",
      " 17  Longitude       5020 non-null   float64\n",
      "dtypes: float64(3), int64(7), object(8)\n",
      "memory usage: 745.2+ KB\n"
     ]
    }
   ],
   "source": [
    "df.info()"
   ]
  },
  {
   "cell_type": "code",
   "execution_count": null,
   "metadata": {},
   "outputs": [
    {
     "data": {
      "text/plain": [
       "0    01/01/2022\n",
       "1    01/01/2022\n",
       "2    01/01/2022\n",
       "3    01/01/2022\n",
       "4    01/01/2022\n",
       "Name: Date, dtype: object"
      ]
     },
     "execution_count": 28,
     "metadata": {},
     "output_type": "execute_result"
    }
   ],
   "source": [
    "df['Date'].head()"
   ]
  },
  {
   "cell_type": "code",
   "execution_count": null,
   "metadata": {},
   "outputs": [
    {
     "name": "stderr",
     "output_type": "stream",
     "text": [
      "C:\\Users\\nadhi\\AppData\\Local\\Temp\\ipykernel_9484\\1856018079.py:2: UserWarning: Parsing dates in DD/MM/YYYY format when dayfirst=False (the default) was specified. This may lead to inconsistently parsed dates! Specify a format to ensure consistent parsing.\n",
      "  df['Date'] = pd.to_datetime(df['Date'])\n"
     ]
    },
    {
     "data": {
      "text/plain": [
       "0   2022-01-01\n",
       "1   2022-01-01\n",
       "2   2022-01-01\n",
       "3   2022-01-01\n",
       "4   2022-01-01\n",
       "Name: Date, dtype: datetime64[ns]"
      ]
     },
     "execution_count": 29,
     "metadata": {},
     "output_type": "execute_result"
    }
   ],
   "source": [
    "# cast df['Date'] to date\n",
    "df['Date'] = pd.to_datetime(df['Date'])\n",
    "df['Date'].head()"
   ]
  },
  {
   "cell_type": "code",
   "execution_count": 73,
   "metadata": {},
   "outputs": [
    {
     "data": {
      "text/html": [
       "<div>\n",
       "<style scoped>\n",
       "    .dataframe tbody tr th:only-of-type {\n",
       "        vertical-align: middle;\n",
       "    }\n",
       "\n",
       "    .dataframe tbody tr th {\n",
       "        vertical-align: top;\n",
       "    }\n",
       "\n",
       "    .dataframe thead th {\n",
       "        text-align: right;\n",
       "    }\n",
       "</style>\n",
       "<table border=\"1\" class=\"dataframe\">\n",
       "  <thead>\n",
       "    <tr style=\"text-align: right;\">\n",
       "      <th></th>\n",
       "      <th>Qty</th>\n",
       "    </tr>\n",
       "    <tr>\n",
       "      <th>Date</th>\n",
       "      <th></th>\n",
       "    </tr>\n",
       "  </thead>\n",
       "  <tbody>\n",
       "    <tr>\n",
       "      <th>01/01/2022</th>\n",
       "      <td>49</td>\n",
       "    </tr>\n",
       "    <tr>\n",
       "      <th>01/02/2022</th>\n",
       "      <td>50</td>\n",
       "    </tr>\n",
       "    <tr>\n",
       "      <th>01/03/2022</th>\n",
       "      <td>76</td>\n",
       "    </tr>\n",
       "    <tr>\n",
       "      <th>01/04/2022</th>\n",
       "      <td>98</td>\n",
       "    </tr>\n",
       "    <tr>\n",
       "      <th>01/05/2022</th>\n",
       "      <td>67</td>\n",
       "    </tr>\n",
       "  </tbody>\n",
       "</table>\n",
       "</div>"
      ],
      "text/plain": [
       "            Qty\n",
       "Date           \n",
       "01/01/2022   49\n",
       "01/02/2022   50\n",
       "01/03/2022   76\n",
       "01/04/2022   98\n",
       "01/05/2022   67"
      ]
     },
     "execution_count": 73,
     "metadata": {},
     "output_type": "execute_result"
    }
   ],
   "source": [
    "df_regression = df.groupby('Date', as_index=False)['Qty'].sum()\n",
    "df_regression.set_index('Date', inplace=True)\n",
    "\n",
    "ts_data = df_regression['Qty']\n",
    "# df_regression = df_regression.rename('TotalQty')\n",
    "df_regression.head()"
   ]
  },
  {
   "cell_type": "code",
   "execution_count": 83,
   "metadata": {},
   "outputs": [
    {
     "name": "stdout",
     "output_type": "stream",
     "text": [
      "<class 'pandas.core.frame.DataFrame'>\n",
      "Index: 365 entries, 01/01/2022 to 31/12/2022\n",
      "Data columns (total 1 columns):\n",
      " #   Column  Non-Null Count  Dtype\n",
      "---  ------  --------------  -----\n",
      " 0   Qty     365 non-null    int64\n",
      "dtypes: int64(1)\n",
      "memory usage: 5.7+ KB\n"
     ]
    }
   ],
   "source": [
    "df_regression.info()"
   ]
  },
  {
   "cell_type": "code",
   "execution_count": 75,
   "metadata": {},
   "outputs": [
    {
     "name": "stdout",
     "output_type": "stream",
     "text": [
      "ADF Statistic: -19.098101174812143\n",
      "p-value: 0.0\n",
      "Critical Values:\n",
      "\t1%: -3.4484434475193777\n",
      "\t5%: -2.869513170510808\n",
      "\t10%: -2.571017574266393\n"
     ]
    }
   ],
   "source": [
    "from statsmodels.tsa.stattools import adfuller\n",
    "\n",
    "def check_stationarity(timeseries):\n",
    "    result = adfuller(timeseries, autolag='AIC')\n",
    "    print(\"ADF Statistic:\", result[0])\n",
    "    print(\"p-value:\", result[1])\n",
    "    print(\"Critical Values:\")\n",
    "    for key, value in result[4].items():\n",
    "        print(\"\\t{}: {}\".format(key, value))\n",
    "\n",
    "check_stationarity(ts_data)"
   ]
  },
  {
   "cell_type": "code",
   "execution_count": 76,
   "metadata": {},
   "outputs": [
    {
     "name": "stdout",
     "output_type": "stream",
     "text": [
      "                               SARIMAX Results                                \n",
      "==============================================================================\n",
      "Dep. Variable:                    Qty   No. Observations:                  365\n",
      "Model:                 ARIMA(1, 1, 1)   Log Likelihood               -1541.346\n",
      "Date:                Sat, 22 Jul 2023   AIC                           3088.693\n",
      "Time:                        21:52:02   BIC                           3100.384\n",
      "Sample:                             0   HQIC                          3093.340\n",
      "                                - 365                                         \n",
      "Covariance Type:                  opg                                         \n",
      "==============================================================================\n",
      "                 coef    std err          z      P>|z|      [0.025      0.975]\n",
      "------------------------------------------------------------------------------\n",
      "ar.L1         -0.0640      0.055     -1.156      0.248      -0.173       0.045\n",
      "ma.L1         -0.9433      0.019    -49.205      0.000      -0.981      -0.906\n",
      "sigma2       277.1783     20.591     13.461      0.000     236.822     317.535\n",
      "===================================================================================\n",
      "Ljung-Box (L1) (Q):                   0.02   Jarque-Bera (JB):                 6.48\n",
      "Prob(Q):                              0.90   Prob(JB):                         0.04\n",
      "Heteroskedasticity (H):               0.89   Skew:                             0.32\n",
      "Prob(H) (two-sided):                  0.54   Kurtosis:                         3.11\n",
      "===================================================================================\n",
      "\n",
      "Warnings:\n",
      "[1] Covariance matrix calculated using the outer product of gradients (complex-step).\n"
     ]
    },
    {
     "name": "stderr",
     "output_type": "stream",
     "text": [
      "c:\\Users\\nadhi\\AppData\\Local\\Programs\\Python\\Python310\\lib\\site-packages\\statsmodels\\tsa\\base\\tsa_model.py:559: UserWarning: Parsing dates in DD/MM/YYYY format when dayfirst=False (the default) was specified. This may lead to inconsistently parsed dates! Specify a format to ensure consistent parsing.\n",
      "  _index = to_datetime(index)\n",
      "c:\\Users\\nadhi\\AppData\\Local\\Programs\\Python\\Python310\\lib\\site-packages\\statsmodels\\tsa\\base\\tsa_model.py:473: ValueWarning: A date index has been provided, but it has no associated frequency information and so will be ignored when e.g. forecasting.\n",
      "  self._init_dates(dates, freq)\n",
      "c:\\Users\\nadhi\\AppData\\Local\\Programs\\Python\\Python310\\lib\\site-packages\\statsmodels\\tsa\\base\\tsa_model.py:473: ValueWarning: A date index has been provided, but it is not monotonic and so will be ignored when e.g. forecasting.\n",
      "  self._init_dates(dates, freq)\n",
      "c:\\Users\\nadhi\\AppData\\Local\\Programs\\Python\\Python310\\lib\\site-packages\\statsmodels\\tsa\\base\\tsa_model.py:559: UserWarning: Parsing dates in DD/MM/YYYY format when dayfirst=False (the default) was specified. This may lead to inconsistently parsed dates! Specify a format to ensure consistent parsing.\n",
      "  _index = to_datetime(index)\n",
      "c:\\Users\\nadhi\\AppData\\Local\\Programs\\Python\\Python310\\lib\\site-packages\\statsmodels\\tsa\\base\\tsa_model.py:473: ValueWarning: A date index has been provided, but it has no associated frequency information and so will be ignored when e.g. forecasting.\n",
      "  self._init_dates(dates, freq)\n",
      "c:\\Users\\nadhi\\AppData\\Local\\Programs\\Python\\Python310\\lib\\site-packages\\statsmodels\\tsa\\base\\tsa_model.py:473: ValueWarning: A date index has been provided, but it is not monotonic and so will be ignored when e.g. forecasting.\n",
      "  self._init_dates(dates, freq)\n",
      "c:\\Users\\nadhi\\AppData\\Local\\Programs\\Python\\Python310\\lib\\site-packages\\statsmodels\\tsa\\base\\tsa_model.py:559: UserWarning: Parsing dates in DD/MM/YYYY format when dayfirst=False (the default) was specified. This may lead to inconsistently parsed dates! Specify a format to ensure consistent parsing.\n",
      "  _index = to_datetime(index)\n",
      "c:\\Users\\nadhi\\AppData\\Local\\Programs\\Python\\Python310\\lib\\site-packages\\statsmodels\\tsa\\base\\tsa_model.py:473: ValueWarning: A date index has been provided, but it has no associated frequency information and so will be ignored when e.g. forecasting.\n",
      "  self._init_dates(dates, freq)\n",
      "c:\\Users\\nadhi\\AppData\\Local\\Programs\\Python\\Python310\\lib\\site-packages\\statsmodels\\tsa\\base\\tsa_model.py:473: ValueWarning: A date index has been provided, but it is not monotonic and so will be ignored when e.g. forecasting.\n",
      "  self._init_dates(dates, freq)\n"
     ]
    }
   ],
   "source": [
    "model = ARIMA(ts_data, order=(1, 1, 1))\n",
    "results = model.fit()\n",
    "\n",
    "# Print the model summary\n",
    "print(results.summary())"
   ]
  },
  {
   "cell_type": "code",
   "execution_count": 78,
   "metadata": {},
   "outputs": [
    {
     "name": "stdout",
     "output_type": "stream",
     "text": [
      "Forecasted values:\n",
      "50.37612027188343\n"
     ]
    },
    {
     "name": "stderr",
     "output_type": "stream",
     "text": [
      "c:\\Users\\nadhi\\AppData\\Local\\Programs\\Python\\Python310\\lib\\site-packages\\statsmodels\\tsa\\base\\tsa_model.py:836: ValueWarning: No supported index is available. Prediction results will be given with an integer index beginning at `start`.\n",
      "  return get_prediction_index(\n"
     ]
    }
   ],
   "source": [
    "n = 3  # Number of time steps to forecast\n",
    "forecast, stderr, conf_int = results.forecast(steps=n)\n",
    "\n",
    "# Print the forecasted values\n",
    "print(\"Forecasted values:\")\n",
    "print(forecast)"
   ]
  },
  {
   "cell_type": "code",
   "execution_count": 91,
   "metadata": {},
   "outputs": [
    {
     "name": "stderr",
     "output_type": "stream",
     "text": [
      "C:\\Users\\nadhi\\AppData\\Local\\Temp\\ipykernel_9484\\2040619129.py:3: FutureWarning: Argument `closed` is deprecated in favor of `inclusive`.\n",
      "  plt.plot(pd.date_range(start=ts_data.index[-1], periods=n+1, closed='right', format='%d/%m/%y'), [ts_data[-1]] + list(forecast), label='Forecast', color='red')\n"
     ]
    },
    {
     "ename": "TypeError",
     "evalue": "DatetimeArray._generate_range() got an unexpected keyword argument 'format'",
     "output_type": "error",
     "traceback": [
      "\u001b[1;31m---------------------------------------------------------------------------\u001b[0m",
      "\u001b[1;31mTypeError\u001b[0m                                 Traceback (most recent call last)",
      "Cell \u001b[1;32mIn[91], line 3\u001b[0m\n\u001b[0;32m      1\u001b[0m plt\u001b[39m.\u001b[39mfigure(figsize\u001b[39m=\u001b[39m(\u001b[39m10\u001b[39m, \u001b[39m6\u001b[39m))\n\u001b[0;32m      2\u001b[0m plt\u001b[39m.\u001b[39mplot(ts_data, label\u001b[39m=\u001b[39m\u001b[39m'\u001b[39m\u001b[39mOriginal Data\u001b[39m\u001b[39m'\u001b[39m)\n\u001b[1;32m----> 3\u001b[0m plt\u001b[39m.\u001b[39mplot(pd\u001b[39m.\u001b[39;49mdate_range(start\u001b[39m=\u001b[39;49mts_data\u001b[39m.\u001b[39;49mindex[\u001b[39m-\u001b[39;49m\u001b[39m1\u001b[39;49m], periods\u001b[39m=\u001b[39;49mn\u001b[39m+\u001b[39;49m\u001b[39m1\u001b[39;49m, closed\u001b[39m=\u001b[39;49m\u001b[39m'\u001b[39;49m\u001b[39mright\u001b[39;49m\u001b[39m'\u001b[39;49m, \u001b[39mformat\u001b[39;49m\u001b[39m=\u001b[39;49m\u001b[39m'\u001b[39;49m\u001b[39m%d\u001b[39;49;00m\u001b[39m/\u001b[39;49m\u001b[39m%\u001b[39;49m\u001b[39mm/\u001b[39;49m\u001b[39m%\u001b[39;49m\u001b[39my\u001b[39;49m\u001b[39m'\u001b[39;49m), [ts_data[\u001b[39m-\u001b[39m\u001b[39m1\u001b[39m]] \u001b[39m+\u001b[39m \u001b[39mlist\u001b[39m(forecast), label\u001b[39m=\u001b[39m\u001b[39m'\u001b[39m\u001b[39mForecast\u001b[39m\u001b[39m'\u001b[39m, color\u001b[39m=\u001b[39m\u001b[39m'\u001b[39m\u001b[39mred\u001b[39m\u001b[39m'\u001b[39m)\n\u001b[0;32m      4\u001b[0m plt\u001b[39m.\u001b[39mlegend()\n\u001b[0;32m      5\u001b[0m plt\u001b[39m.\u001b[39mxlabel(\u001b[39m'\u001b[39m\u001b[39mDate\u001b[39m\u001b[39m'\u001b[39m)\n",
      "File \u001b[1;32mc:\\Users\\nadhi\\AppData\\Local\\Programs\\Python\\Python310\\lib\\site-packages\\pandas\\core\\indexes\\datetimes.py:1125\u001b[0m, in \u001b[0;36mdate_range\u001b[1;34m(start, end, periods, freq, tz, normalize, name, closed, inclusive, **kwargs)\u001b[0m\n\u001b[0;32m   1122\u001b[0m \u001b[39mif\u001b[39;00m freq \u001b[39mis\u001b[39;00m \u001b[39mNone\u001b[39;00m \u001b[39mand\u001b[39;00m com\u001b[39m.\u001b[39many_none(periods, start, end):\n\u001b[0;32m   1123\u001b[0m     freq \u001b[39m=\u001b[39m \u001b[39m\"\u001b[39m\u001b[39mD\u001b[39m\u001b[39m\"\u001b[39m\n\u001b[1;32m-> 1125\u001b[0m dtarr \u001b[39m=\u001b[39m DatetimeArray\u001b[39m.\u001b[39m_generate_range(\n\u001b[0;32m   1126\u001b[0m     start\u001b[39m=\u001b[39mstart,\n\u001b[0;32m   1127\u001b[0m     end\u001b[39m=\u001b[39mend,\n\u001b[0;32m   1128\u001b[0m     periods\u001b[39m=\u001b[39mperiods,\n\u001b[0;32m   1129\u001b[0m     freq\u001b[39m=\u001b[39mfreq,\n\u001b[0;32m   1130\u001b[0m     tz\u001b[39m=\u001b[39mtz,\n\u001b[0;32m   1131\u001b[0m     normalize\u001b[39m=\u001b[39mnormalize,\n\u001b[0;32m   1132\u001b[0m     inclusive\u001b[39m=\u001b[39minclusive,\n\u001b[0;32m   1133\u001b[0m     \u001b[39m*\u001b[39m\u001b[39m*\u001b[39mkwargs,\n\u001b[0;32m   1134\u001b[0m )\n\u001b[0;32m   1135\u001b[0m \u001b[39mreturn\u001b[39;00m DatetimeIndex\u001b[39m.\u001b[39m_simple_new(dtarr, name\u001b[39m=\u001b[39mname)\n",
      "\u001b[1;31mTypeError\u001b[0m: DatetimeArray._generate_range() got an unexpected keyword argument 'format'"
     ]
    },
    {
     "data": {
      "image/png": "[encoded data removed]",
      "text/plain": [
       "<Figure size 1000x600 with 1 Axes>"
      ]
     },
     "metadata": {},
     "output_type": "display_data"
    }
   ],
   "source": [
    "plt.figure(figsize=(10, 6))\n",
    "plt.plot(ts_data, label='Original Data')\n",
    "plt.plot(pd.date_range(start=ts_data.index[-1], periods=n+1, closed='right', format='%d/%m/%y'), [ts_data[-1]] + list(forecast), label='Forecast', color='red')\n",
    "plt.legend()\n",
    "plt.xlabel('Date')\n",
    "plt.ylabel('Quantity')\n",
    "plt.title('ARIMA Forecast')\n",
    "plt.show()"
   ]
  },
  {
   "cell_type": "code",
   "execution_count": null,
   "metadata": {},
   "outputs": [],
   "source": [
    "df.v"
   ]
  }
 ],
 "metadata": {
  "kernelspec": {
   "display_name": "Python 3",
   "language": "python",
   "name": "python3"
  },
  "language_info": {
   "codemirror_mode": {
    "name": "ipython",
    "version": 3
   },
   "file_extension": ".py",
   "mimetype": "text/x-python",
   "name": "python",
   "nbconvert_exporter": "python",
   "pygments_lexer": "ipython3",
   "version": "3.10.7"
  },
  "orig_nbformat": 4
 },
 "nbformat": 4,
 "nbformat_minor": 2
}
